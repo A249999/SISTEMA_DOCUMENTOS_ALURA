{
  "nbformat": 4,
  "nbformat_minor": 0,
  "metadata": {
    "colab": {
      "provenance": [],
      "authorship_tag": "ABX9TyPmPvVOsObSM39Z6HyVWffC",
      "include_colab_link": true
    },
    "kernelspec": {
      "name": "python3",
      "display_name": "Python 3"
    },
    "language_info": {
      "name": "python"
    }
  },
  "cells": [
    {
      "cell_type": "markdown",
      "metadata": {
        "id": "view-in-github",
        "colab_type": "text"
      },
      "source": [
        "<a href=\"https://colab.research.google.com/github/A249999/SISTEMA_DOCUMENTOS_ALURA/blob/main/Untitled1.ipynb\" target=\"_parent\"><img src=\"https://colab.research.google.com/assets/colab-badge.svg\" alt=\"Open In Colab\"/></a>"
      ]
    },
    {
      "cell_type": "code",
      "source": [
        "# ... (Authentication and Drive API setup) ...\n",
        "\n",
        "def search_docs(query, folder_id):\n",
        "    file_list = list_files_in_folder(folder_id)\n",
        "    for file in file_list:\n",
        "        if file['mimeType'] == 'application/vnd.google-apps.document':\n",
        "            # Process text document (.docx)\n",
        "            text = extract_text_from_docx(file['id'])\n",
        "        elif file['mimeType'] == 'application/pdf':\n",
        "            # Process PDF using OCR\n",
        "            text = extract_text_from_pdf_using_ocr(file['id'])\n",
        "        # ... (Other file types) ...\n",
        "        if re.search(query, text):\n",
        "            [].append({'file_name': file['name'], 'snippet': ...})\n",
        "    return []"
      ],
      "metadata": {
        "id": "EYTlDYCcadKB"
      },
      "execution_count": 19,
      "outputs": []
    },
    {
      "cell_type": "code",
      "source": [
        "from google.colab import drive\n",
        "from googleapiclient.discovery import build\n",
        "from googleapiclient.errors import HttpError\n",
        "import re\n",
        "\n",
        "drive.mount('/content/drive')\n",
        "\n",
        "def search_google_docs(query, folder_id='root'):\n",
        "  \"\"\"Searches Google Docs within a specified folder.\n",
        "\n",
        "  Args:\n",
        "    query: The search query string.\n",
        "    folder_id: The ID of the Google Drive folder to search within (default is 'root').\n",
        "\n",
        "  Returns:\n",
        "    A list of dictionaries containing file information for matching documents.\n",
        "  \"\"\"\n",
        "  try:\n",
        "    # Authenticate and build the Drive API client\n",
        "    service = build('drive', 'v3')\n",
        "\n",
        "    # Query to search for Google Docs within the specified folder\n",
        "    query_string = f\"mimeType='application/vnd.google-apps.document' and '{folder_id}' in parents and fullText contains '{query}'\"\n",
        "    results = service.files().list(q=query_string,\n",
        "                                    spaces='drive',\n",
        "                                    fields='nextPageToken, files(id, name, webViewLink)').execute()\n",
        "    items = results.get('files', [])\n",
        "\n",
        "    return items\n",
        "  except HttpError as error:\n",
        "    print(f'An error occurred: {error}')\n",
        "    return []\n",
        "\n",
        "if __name__ == '__main__':\n",
        "  search_query = input(\"Enter your search query: \")\n",
        "  folder_id = input(\"Enter your Google Drive folder ID (leave blank for root): \") or 'root'\n",
        "\n",
        "  matching_docs = search_google_docs(search_query, folder_id)\n",
        "\n",
        "  if matching_docs:\n",
        "    print(\"Matching documents:\")\n",
        "    for doc in matching_docs:\n",
        "      print(f\"- {doc['name']} (Link: {doc['webViewLink']})\")\n",
        "  else:\n",
        "    print(\"No matching documents found.\")"
      ],
      "metadata": {
        "id": "ztlLSWy-bE23"
      },
      "execution_count": null,
      "outputs": []
    }
  ]
}